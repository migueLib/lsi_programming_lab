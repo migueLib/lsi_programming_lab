{
 "cells": [
  {
   "cell_type": "markdown",
   "metadata": {
    "collapsed": true
   },
   "source": [
    "# Programming Lab II"
   ]
  },
  {
   "cell_type": "markdown",
   "metadata": {},
   "source": [
    "## Handout 3"
   ]
  },
  {
   "cell_type": "markdown",
   "metadata": {},
   "source": [
    "Miguel A. Ibarra-Arellano  \n",
    "ibarrarellano@gmail.com"
   ]
  },
  {
   "cell_type": "markdown",
   "metadata": {},
   "source": [
    "### Exercise 1 : *\"Matrices as lists of lists\"*"
   ]
  },
  {
   "cell_type": "markdown",
   "metadata": {},
   "source": [
    "The previously mentioned solution for initializing matrices as lists of lists works fine. Now,  \n",
    "consider the following modification, which tries to optimize setting up the matrix by initial-  \n",
    "izing a single row of n 0’s only once and append this row m times:"
   ]
  },
  {
   "cell_type": "code",
   "execution_count": 18,
   "metadata": {},
   "outputs": [
    {
     "name": "stdout",
     "output_type": "stream",
     "text": [
      "[[0, 1, 0], [0, 1, 0], [0, 1, 0]]\n[[0, 1, 0], [0, 1, 0], [0, 1, 0]]\n"
     ]
    }
   ],
   "source": [
    "# Stablish values for n and m\n",
    "n=3\n",
    "m=3\n",
    "row = [0]*n\n",
    "mat = []\n",
    "for i in range(m):\n",
    "    mat.append(row)\n",
    "mat[1][1] = 1\n",
    "print(mat)\n",
    "\n",
    "# Another way to initialize it (shorter)\n",
    "mat2 = [[0]*n]*m\n",
    "mat2[1][1] = 1\n",
    "print(mat2)\n",
    "\n",
    "# Ok, it is pretty obvious why this is wrong, every time that you are doing anything\n",
    "# to any column you will be doing it to all the other columns! because the \"row\" \n",
    "# it's the same object over and over again."
   ]
  },
  {
   "cell_type": "markdown",
   "metadata": {},
   "source": [
    "### Exercise 2: *\"The Dotplot matrix\"*"
   ]
  },
  {
   "cell_type": "markdown",
   "metadata": {},
   "source": [
    "#### a) *Generate a dotplot matrix*"
   ]
  },
  {
   "cell_type": "markdown",
   "metadata": {},
   "source": []
  },
  {
   "cell_type": "markdown",
   "metadata": {},
   "source": [
    "#### b) *The Dotplot as ASCII art*"
   ]
  },
  {
   "cell_type": "markdown",
   "metadata": {},
   "source": [
    "#### c) *Graphical output using matplotlib*"
   ]
  },
  {
   "cell_type": "markdown",
   "metadata": {},
   "source": [
    "#### d) *Write a script*"
   ]
  },
  {
   "cell_type": "markdown",
   "metadata": {},
   "source": [
    "### Exercise 3 *\"The Icosian Game\"*"
   ]
  },
  {
   "cell_type": "code",
   "execution_count": null,
   "metadata": {},
   "outputs": [],
   "source": []
  }
 ],
 "metadata": {
  "kernelspec": {
   "display_name": "Python 2",
   "language": "python",
   "name": "python2"
  },
  "language_info": {
   "codemirror_mode": {
    "name": "ipython",
    "version": 2
   },
   "file_extension": ".py",
   "mimetype": "text/x-python",
   "name": "python",
   "nbconvert_exporter": "python",
   "pygments_lexer": "ipython2",
   "version": "2.7.6"
  }
 },
 "nbformat": 4,
 "nbformat_minor": 0
}
