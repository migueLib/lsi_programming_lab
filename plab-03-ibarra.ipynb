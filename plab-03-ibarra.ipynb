{
 "cells": [
  {
   "cell_type": "markdown",
   "metadata": {
    "collapsed": true
   },
   "source": [
    "# Programming Lab II"
   ]
  },
  {
   "cell_type": "markdown",
   "metadata": {},
   "source": [
    "## Handout 3"
   ]
  },
  {
   "cell_type": "markdown",
   "metadata": {},
   "source": [
    "Miguel A. Ibarra-Arellano  \n",
    "ibarrarellano@gmail.com"
   ]
  },
  {
   "cell_type": "markdown",
   "metadata": {},
   "source": [
    "### Exercise 1 : *\"Matrices as lists of lists\"*"
   ]
  },
  {
   "cell_type": "markdown",
   "metadata": {},
   "source": [
    "The previously mentioned solution for initializing matrices as lists of lists works fine. Now,  \n",
    "consider the following modification, which tries to optimize setting up the matrix by initial-  \n",
    "izing a single row of n 0’s only once and append this row m times:"
   ]
  },
  {
   "cell_type": "code",
   "execution_count": 1,
   "metadata": {},
   "outputs": [
    {
     "name": "stdout",
     "output_type": "stream",
     "text": [
      "[[0, 1, 0], [0, 1, 0], [0, 1, 0]]\n[[0, 1, 0], [0, 1, 0], [0, 1, 0]]\n"
     ]
    }
   ],
   "source": [
    "# Stablish values for n and m\n",
    "n=3\n",
    "m=3\n",
    "row = [0]*n\n",
    "mat = []\n",
    "for i in range(m):\n",
    "    mat.append(row)\n",
    "mat[1][1] = 1\n",
    "print(mat)\n",
    "\n",
    "# Another way to initialize it (shorter)\n",
    "mat2 = [[0]*n]*m\n",
    "mat2[1][1] = 1\n",
    "print(mat2)\n",
    "\n",
    "# Ok, it is pretty obvious why this is wrong, every time that you are doing anything\n",
    "# to any column you will be doing it to all the other columns! because the \"row\" \n",
    "# it's the same object over and over again."
   ]
  },
  {
   "cell_type": "markdown",
   "metadata": {},
   "source": [
    "### Exercise 2: *\"The Dotplot matrix\"*"
   ]
  },
  {
   "cell_type": "markdown",
   "metadata": {},
   "source": [
    "#### a) *Generate a dotplot matrix*"
   ]
  },
  {
   "cell_type": "code",
   "execution_count": 2,
   "metadata": {},
   "outputs": [],
   "source": [
    " import numpy as np\n",
    "\n",
    "def dotplot(seqA, seqB, w=1,s=1):\n",
    "    \"\"\"\n",
    "    Generates a dotplot matrix for 2 given strings\n",
    "\n",
    "    :param seqA: Str A\n",
    "    :param seqB: Str B\n",
    "    :param w: int window size\n",
    "    :param s: int stringency\n",
    "    :param heading: heading of the file\n",
    "    :param filename: filename to output the doplot matrix\n",
    "    :return: \n",
    "    \"\"\"\n",
    "    # Create empty matrix\n",
    "    dp = np.zeros((len(seqA),len(seqB)),dtype=int)\n",
    "    \n",
    "    # Calcualte window distance\n",
    "    dis = (w-1)/2\n",
    "    \n",
    "    # Lets fill every single point in the matrix\n",
    "    for i in range(len(seqA)): # Rows\n",
    "        for j in range(len(seqB)): # Columns\n",
    "            subsA = seqA[int(i-dis):int(i+dis+1)]\n",
    "            subsB = seqB[int(j-dis):int(j+dis+1)]\n",
    "            \n",
    "            \n",
    "            # Check every element of the substring for stringency\n",
    "            n_matches = 0\n",
    "            for k in range(min(len(subsA),len(subsB))):\n",
    "                if subsA[k] == subsB[k]:\n",
    "                    n_matches += 1\n",
    "                    \n",
    "            # if the number of matches is bigger than the stringency then put a 1\n",
    "            #print(n_matches,s)\n",
    "            if n_matches > s:\n",
    "                dp[i, j] = 1\n",
    "    return (dp)\n",
    "\n",
    "# Now let's test this\n",
    "#seqA = \"ABRACADABRACADABRA\"\n",
    "#seqB = \"ABRACADABRACADABRA\"\n",
    "#dp_test = dotplot(seqA, seqB, w=1, s=1)\n",
    "\n",
    "seqA=\"peter piper picked a peck of pickled peppers\"\n",
    "seqB=\"a peck of pickled peppers peter piper picked\"\n",
    "dp_peter = dotplot(seqA, seqB, w=5, s=3)"
   ]
  },
  {
   "cell_type": "markdown",
   "metadata": {},
   "source": [
    "#### b) *The Dotplot as ASCII art*"
   ]
  },
  {
   "cell_type": "code",
   "execution_count": 3,
   "metadata": {},
   "outputs": [],
   "source": [
    "def dotplot2ascii(dp,seqA,seqB,heading=\"dotplot\",filename=\"dotplot.txt\"):\n",
    "    \"\"\"\n",
    "    Takes a dotplor matrix and otuputs an ASCII version of it \n",
    "    to a file.\n",
    "    \n",
    "    :param dp: dotplot matrix\n",
    "    :param seqA: string A\n",
    "    :param seqB: string B\n",
    "    :param heading: heading\n",
    "    :param filename: filename\n",
    "    :return: file with an ASCII art plot matrix\n",
    "    \"\"\"\n",
    "    with open(filename,\"w\") as OUT:\n",
    "        print(heading, file=OUT)\n",
    "        print(\"  |\", \"\".join(list(seqB)), file=OUT)\n",
    "        print(\"--|\", \"\".join(list(\"-\")*len(seqB)), file=OUT)\n",
    "        for i,l in zip(range(len(seqA)),seqA):\n",
    "            print(\"{0} |\".format(l), \"\".join([\"*\" if i == 1 else \" \" for i in dp[i]]), file=OUT)\n",
    "\n",
    "\n",
    "dotplot2ascii(dp_peter, seqA, seqB, \"Peter Piper’s first dotplot\", \"mydotplot.txt\")"
   ]
  },
  {
   "cell_type": "markdown",
   "metadata": {},
   "source": [
    "#### c) *Graphical output using matplotlib*\n"
   ]
  },
  {
   "cell_type": "code",
   "execution_count": 4,
   "metadata": {},
   "outputs": [
    {
     "data": {
      "image/png": "[encoded data removed]",
      "text/plain": [
       "<Figure size 432x432 with 1 Axes>"
      ]
     },
     "metadata": {},
     "output_type": "display_data"
    }
   ],
   "source": [
    "# Imports\n",
    "%matplotlib inline\n",
    "from scipy import ndimage\n",
    "import matplotlib.pylab as plt\n",
    "\n",
    "\n",
    "def dotplot2graphics(dp, hdA, hdB, heading=\"dotplot\", filename=\"my_dotplot.pdf\", use_imshow=False):\n",
    "    \"\"\"\n",
    "    Prints dotplot with matplotlib\n",
    "    \n",
    "    :param dp: dotplot matrix\n",
    "    :param hdA: string A\n",
    "    :param hdB: string B\n",
    "    :param heading:  heading\n",
    "    :param filename: output filename\n",
    "    :return: file with a dotplot matrix\n",
    "    \"\"\"\n",
    "    \n",
    "    fig, ax = plt.subplots(1,1, figsize=(6, 6))\n",
    "    \n",
    "    if use_imshow:\n",
    "        ax.imshow(dp)\n",
    "    else:\n",
    "        for i in range(len(seqA)):\n",
    "            for j in range(len(seqB)):\n",
    "                if dp[i,j] == 1:\n",
    "                    ax.scatter(j, i, color=\"black\", marker=\"+\")\n",
    "    \n",
    "        # Invert axis\n",
    "        plt.gca().invert_yaxis()\n",
    "    \n",
    "    # Mover xticks to top\n",
    "    ax.xaxis.tick_top()\n",
    "    ax.xaxis.set_label_position('top')\n",
    "\n",
    "    # Set xticks to letters\n",
    "    plt.xticks(np.arange(len(hdB)), list(hdB))\n",
    "    plt.yticks(np.arange(len(hdA)), list(hdA))\n",
    "    \n",
    "    # Set title\n",
    "    plt.title(heading, y=1.08)\n",
    "    \n",
    "    # Save figure\n",
    "    plt.savefig(filename)\n",
    "    \n",
    "    \n",
    "dotplot2graphics(dp_peter, seqA, seqB, \"Peter Piper’s first dotplot\", \"mydotplot.pdf\")#, use_imshow=True)"
   ]
  },
  {
   "cell_type": "markdown",
   "metadata": {},
   "source": [
    "### Exercise 3: *\"The Icosian Game\"*"
   ]
  },
  {
   "cell_type": "code",
   "execution_count": null,
   "metadata": {},
   "outputs": [],
   "source": [
    "def get_paths():\n",
    "    pass"
   ]
  }
 ],
 "metadata": {
  "kernelspec": {
   "display_name": "Python 2",
   "language": "python",
   "name": "python2"
  },
  "language_info": {
   "codemirror_mode": {
    "name": "ipython",
    "version": 2
   },
   "file_extension": ".py",
   "mimetype": "text/x-python",
   "name": "python",
   "nbconvert_exporter": "python",
   "pygments_lexer": "ipython2",
   "version": "2.7.6"
  }
 },
 "nbformat": 4,
 "nbformat_minor": 0
}
