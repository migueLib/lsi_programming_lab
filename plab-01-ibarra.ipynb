{
 "cells": [
  {
   "cell_type": "markdown",
   "metadata": {},
   "source": [
    "# Programming Lab II"
   ]
  },
  {
   "cell_type": "markdown",
   "metadata": {},
   "source": [
    "## Handout 1"
   ]
  },
  {
   "cell_type": "markdown",
   "metadata": {},
   "source": [
    "Miguel A Ibarra-Arellano  \n",
    "ibarrarellano@gmail.com"
   ]
  },
  {
   "cell_type": "markdown",
   "metadata": {},
   "source": [
    "### Exercise 1"
   ]
  },
  {
   "cell_type": "markdown",
   "metadata": {},
   "source": [
    "Srinivasa Ramanujan calculates pi  \n",
    "The mathematician Srinivasa Ramanujan found an infinite series that can be used to generate a numerical aproximation of pi:  \n",
    "\n",
    "formula\n",
    "\n",
    "\n",
    "Write a function called estimate_pi that uses this formula to compute and return an estimate of pi. It shpuld use a while loop to compute terms of the summation until the last term is smaller that 1e-15 (which is Python notation for 10-15). You canchech the result by comparing it to math.pi"
   ]
  },
  {
   "cell_type": "code",
   "execution_count": 99,
   "metadata": {},
   "outputs": [
    {
     "name": "stdout",
     "output_type": "stream",
     "text": [
      "1.3538198748600735e-12\n"
     ]
    }
   ],
   "source": [
    "from math import pi\n",
    "from math import factorial\n",
    "from math import sqrt\n",
    "\n",
    "\n",
    "constant = sqrt(8)/(99**2)\n",
    "\n",
    "acum =0\n",
    "for k in range(7):\n",
    "    res = (factorial(4*k)/factorial(k)**4)*(1103+(26390*k)/396**(4*k))\n",
    "    acum += res\n",
    "\n",
    "\n",
    "#print (1/(constant*(acum)))\n",
    "print (1/(constant*acum))"
   ]
  },
  {
   "cell_type": "code",
   "execution_count": 78,
   "metadata": {},
   "outputs": [
    {
     "data": {
      "text/plain": [
       "0.3183098861837907"
      ]
     },
     "execution_count": 78,
     "metadata": {},
     "output_type": "execute_result"
    }
   ],
   "source": [
    "1/pi"
   ]
  },
  {
   "cell_type": "code",
   "execution_count": 98,
   "metadata": {},
   "outputs": [
    {
     "data": {
      "text/plain": [
       "96059601"
      ]
     },
     "execution_count": 98,
     "metadata": {},
     "output_type": "execute_result"
    }
   ],
   "source": [
    "99**4"
   ]
  },
  {
   "cell_type": "code",
   "execution_count": null,
   "metadata": {},
   "outputs": [],
   "source": []
  }
 ],
 "metadata": {
  "kernelspec": {
   "display_name": "Python 3",
   "language": "python",
   "name": "python3"
  },
  "language_info": {
   "codemirror_mode": {
    "name": "ipython",
    "version": 3
   },
   "file_extension": ".py",
   "mimetype": "text/x-python",
   "name": "python",
   "nbconvert_exporter": "python",
   "pygments_lexer": "ipython3",
   "version": "3.6.4"
  }
 },
 "nbformat": 4,
 "nbformat_minor": 2
}
