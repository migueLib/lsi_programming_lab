{
 "cells": [
  {
   "cell_type": "markdown",
   "metadata": {},
   "source": [
    "# Programming Lab II"
   ]
  },
  {
   "cell_type": "markdown",
   "metadata": {},
   "source": [
    "## Handout 1"
   ]
  },
  {
   "cell_type": "markdown",
   "metadata": {},
   "source": [
    "Miguel A Ibarra-Arellano  \n",
    "ibarrarellano@gmail.com"
   ]
  },
  {
   "cell_type": "markdown",
   "metadata": {},
   "source": [
    "### Exercise 1"
   ]
  },
  {
   "cell_type": "markdown",
   "metadata": {},
   "source": [
    "*Srinivasa Ramanujan calculates* $\\pi$  \n",
    "The mathematician Srinivasa Ramanujan found an infinite series that can be used to generate a numerical aproximation of $\\pi$:  \n",
    "\n",
    "\\begin{equation*}\n",
    "\\frac1\\pi\\ = \\frac{2\\sqrt2}{9801}\\sum_{j=0}^{\\infty}\\frac{(4k)!(1103+26390k)}{(k!)^4 396^{4k}}\n",
    "\\end{equation*} \n",
    "\n",
    "\n",
    "Write a function called `estimate_pi` that uses this formula to compute and return an estimate of $\\pi$. It shpuld use a `while` loop to compute terms of the summation until the last term is smaller that 1e-15 (which is Python notation for $10^{-15}$). You canchech the result by comparing it to  `math.p`"
   ]
  },
  {
   "cell_type": "code",
   "execution_count": 38,
   "metadata": {},
   "outputs": [
    {
     "name": "stdout",
     "output_type": "stream",
     "text": [
      "3.141592653589793\n",
      "3.141592653589793\n"
     ]
    }
   ],
   "source": [
    "# Import libraries\n",
    "from math import pi\n",
    "from math import factorial\n",
    "from math import sqrt\n",
    "\n",
    "\n",
    "def estimate_pi(precission = 1e-15):\n",
    "    \"\"\"\n",
    "    Estimates pi using Srinivasa Ramanujan series \n",
    "    \"\"\"\n",
    "    # constant part of the equation\n",
    "    constant = (2*sqrt(2))/9801\n",
    "    \n",
    "    # Do-while like structure for the algebraic part\n",
    "    k = 0\n",
    "    acum = 0\n",
    "    \n",
    "    while True:\n",
    "        var = (factorial(4*k)*(1103+(26390*k)))/((factorial(k)**4)*(396**(4*k)))\n",
    "        \n",
    "        # Breaks when variable part is smaller than the precission value\n",
    "        if var < precission:\n",
    "            break\n",
    "        else:\n",
    "            acum += var\n",
    "            k +=1\n",
    "        \n",
    "    return (1/(constant*acum))\n",
    "\n",
    "# Calling and comparing with math.pi\n",
    "my_py = estimate_pi()\n",
    "print(my_py)\n",
    "print(pi)"
   ]
  },
  {
   "cell_type": "markdown",
   "metadata": {},
   "source": [
    "### Excercise 2"
   ]
  },
  {
   "cell_type": "code",
   "execution_count": null,
   "metadata": {},
   "outputs": [],
   "source": []
  }
 ],
 "metadata": {
  "kernelspec": {
   "display_name": "Python 3",
   "language": "python",
   "name": "python3"
  },
  "language_info": {
   "codemirror_mode": {
    "name": "ipython",
    "version": 3
   },
   "file_extension": ".py",
   "mimetype": "text/x-python",
   "name": "python",
   "nbconvert_exporter": "python",
   "pygments_lexer": "ipython3",
   "version": "3.6.4"
  }
 },
 "nbformat": 4,
 "nbformat_minor": 2
}
