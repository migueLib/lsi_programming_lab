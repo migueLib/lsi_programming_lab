{
 "cells": [
  {
   "cell_type": "markdown",
   "metadata": {},
   "source": [
    "# Programming Lab II"
   ]
  },
  {
   "cell_type": "markdown",
   "metadata": {},
   "source": [
    "## Handout 1"
   ]
  },
  {
   "cell_type": "markdown",
   "metadata": {},
   "source": [
    "Miguel A Ibarra-Arellano  \n",
    "ibarrarellano@gmail.com"
   ]
  },
  {
   "cell_type": "markdown",
   "metadata": {},
   "source": [
    "### Exercise 1"
   ]
  },
  {
   "cell_type": "markdown",
   "metadata": {},
   "source": [
    "*Srinivasa Ramanujan calculates* $\\pi$  \n",
    "The mathematician Srinivasa Ramanujan found an infinite series that can be used to generate a numerical aproximation of $\\pi$:  \n",
    "\n",
    "\\begin{equation*}\n",
    "\\frac1\\pi\\ = \\frac{2\\sqrt2}{9801}\\sum_{j=0}^{\\infty}\\frac{(4k)!(1103+26390k)}{(k!)^4 396^{4k}}\n",
    "\\end{equation*} \n",
    "\n",
    "\n",
    "Write a function called `estimate_pi` that uses this formula to compute and return an estimate of $\\pi$. It shpuld use a `while` loop to compute terms of the summation until the last term is smaller that 1e-15 (which is Python notation for $10^{-15}$). You canchech the result by comparing it to  `math.p`"
   ]
  },
  {
   "cell_type": "code",
   "execution_count": 1,
   "metadata": {},
   "outputs": [
    {
     "name": "stdout",
     "output_type": "stream",
     "text": [
      "3.141592653589793\n",
      "3.141592653589793\n"
     ]
    }
   ],
   "source": [
    "# Import libraries\n",
    "from math import pi\n",
    "from math import factorial\n",
    "from math import sqrt\n",
    "\n",
    "\n",
    "def estimate_pi(precission = 1e-15):\n",
    "    \"\"\"\n",
    "    Estimates pi using Srinivasa Ramanujan series \n",
    "    \"\"\"\n",
    "    # constant part of the equation\n",
    "    constant = (2*sqrt(2))/9801\n",
    "    \n",
    "    # Do-while like structure for the algebraic part\n",
    "    k = 0\n",
    "    acum = 0\n",
    "    \n",
    "    while True:\n",
    "        var = (factorial(4*k)*(1103+(26390*k)))/((factorial(k)**4)*(396**(4*k)))\n",
    "        \n",
    "        # Breaks when variable part is smaller than the precission value\n",
    "        if var < precission:\n",
    "            break\n",
    "        else:\n",
    "            acum += var\n",
    "            k +=1\n",
    "        \n",
    "    return (1/(constant*acum))\n",
    "\n",
    "# Calling and comparing with math.pi\n",
    "my_py = estimate_pi()\n",
    "print(my_py)\n",
    "print(pi)"
   ]
  },
  {
   "cell_type": "markdown",
   "metadata": {},
   "source": [
    "### Exercise 2 : *Happy numbers*"
   ]
  },
  {
   "cell_type": "markdown",
   "metadata": {},
   "source": [
    "Happy numbers are defined by the following process: Start with a positive number. Replace the number with the sum of the squares of its digits and repeat until you reach the number 1 or the process enters a loop not involving the number 1. A number that reaches 1 is called a happy number all other numbers are unhappy.  \n",
    "\n",
    "1. Write a function `is_happy(n)` that checks whether a number is happy or unhappy. It should return true if the the number is happy and false otherwise. Hint: It is known that, if a number is unhappy, it will enter a loop involving the number \"4\". Thus you can repeat the process until the number reaches either 1 (happy) or 4 (unhappy).  \n",
    "\n",
    "   Hint: You will somehow need to extract the individual digits of a number. Section 8.7 (pg. 75) of Think Python explains how to iterate over the individual characters of a string. A number can be represented as a string using the `str` function and vice versa a string consisting of digits can be converted back to an integer using the `int` function.  \n",
    "\n",
    "2. Find all happy numbers from 1 to 100.\n",
    "3. Solve the problem in two different ways using a) while-loops and b) recursion.\n",
    "4. Bonus: (3 pts) Modify the problem by taking the sum of cubes instead of the sum of squares. Find all the loops that can occur and all numbers that are equal to the sum of the cubes of their digits. A number is called cube-happy if its iteration ends in a number that is identical to the sum of the cubes of its digits. Find all cube-happy numbers from 1 to 1000."
   ]
  },
  {
   "cell_type": "code",
   "execution_count": 2,
   "metadata": {},
   "outputs": [],
   "source": [
    "def is_happy_iterative(n):\n",
    "    \"\"\"\n",
    "    Determine if a number is happy or not, using iterative approach.\n",
    "    \"\"\"\n",
    "    sums = 0\n",
    "\n",
    "    # Stop when 1 or 4 found\n",
    "    while sums != 1 and sums != 4:\n",
    "        sums = 0\n",
    "\n",
    "        for d in str(n): # Sums digits (d) for a number (n)\n",
    "            sums += int(d)**2\n",
    "        n = sums\n",
    "\n",
    "    return True if sums==1 else False"
   ]
  },
  {
   "cell_type": "code",
   "execution_count": 3,
   "metadata": {},
   "outputs": [],
   "source": [
    "def is_happy_recursive(n):\n",
    "    \"\"\"\n",
    "    Determine if a number is happy or not, using recursive approach\n",
    "    \"\"\"\n",
    "    if n == 1 or n == 4:\n",
    "        return True if n==1 else False\n",
    "    else:\n",
    "        sums = 0\n",
    "        for d in str(n):\n",
    "            sums += int(d)**2\n",
    "        return (is_happy_recursive(sums))"
   ]
  },
  {
   "cell_type": "markdown",
   "metadata": {},
   "source": [
    "Now let's calculate the happy numbers from 1 to 100"
   ]
  },
  {
   "cell_type": "code",
   "execution_count": 4,
   "metadata": {},
   "outputs": [
    {
     "name": "stdout",
     "output_type": "stream",
     "text": [
      "happy numbers ussing iterative function\n",
      "1 7 10 13 19 23 28 31 32 44 49 68 70 79 82 86 91 94 97 100 \n",
      "happy numbers using recursive function\n",
      "1 7 10 13 19 23 28 31 32 44 49 68 70 79 82 86 91 94 97 100 "
     ]
    }
   ],
   "source": [
    "print(\"happy numbers ussing iterative function\")\n",
    "for i in range(1,101):\n",
    "    if is_happy_iterative(i):\n",
    "        print (i, end=' ')\n",
    "        \n",
    "print(\"\\nhappy numbers using recursive function\")\n",
    "for i in range(1,101):\n",
    "    if is_happy_recursive(i):\n",
    "        print (i, end=' ')"
   ]
  },
  {
   "cell_type": "markdown",
   "metadata": {},
   "source": [
    "### Exercise 3:  The Birthday Paradox"
   ]
  },
  {
   "cell_type": "markdown",
   "metadata": {},
   "source": [
    "\n",
    "1. (1 pt) Write a function called has_duplicates that takes a list and returns True if there is any element that appears more than once. It should not modify the original list.\n",
    "2. (4 pts) If there are n = 27 students in your class, what are the chances that two of you have the same birthday (day/month)? You can estimate this probability by generating random samples of n birthdays and checking for matches. (For simplicity, assume that every year has 365 days and the probability to be born on any day is the same.) Hint: You can generate random birthdays with the randint function in the random module.  \n",
    "\n",
    "   1. (2 pts) Estimate the probability on the basis generating 10000 trials of n = 27 birthdays and determine the           fraction of trials, where at least two persons share a birthday.\n",
    "   2. (2 pts) How do your estimates compare to the approximated probability $p_{m}(n)\\approx 1-e^{\\frac{n^2}{2m}}$ for     $m = 365$, $n = 27$ and the exact probability:  \n",
    "    \\begin{equation*}\n",
    "    1-p_{m}(n) = 1\\centerdot\\frac{m - 1}{m}\\centerdot\\frac{m - 2}{m}\\centerdot\\cdots\\centerdot\\frac{m - n + 1}{m}\n",
    "    \\end{equation*}\n",
    "   3. iii. Bonus: (2 pts) Modify your approach to estimate the probability that at least\n",
    "   three people share a birthday with another one.  \n",
    "   You can read about this problem at http://en.wikipedia.org/wiki/Birthday_paradox.\n"
   ]
  },
  {
   "cell_type": "code",
   "execution_count": 5,
   "metadata": {},
   "outputs": [],
   "source": [
    "def has_duplicates(l):\n",
    "    \"\"\"\n",
    "    Returns True if a list (l) contains duplicated elements\n",
    "    returns False otherwise.s\n",
    "    \"\"\"\n",
    "    return True if len(l) != len(set(l)) else False\n",
    "        "
   ]
  },
  {
   "cell_type": "code",
   "execution_count": 6,
   "metadata": {},
   "outputs": [
    {
     "data": {
      "text/plain": [
       "0.6338"
      ]
     },
     "execution_count": 6,
     "metadata": {},
     "output_type": "execute_result"
    }
   ],
   "source": [
    "from random import randint\n",
    "\n",
    "def estimte_bday_probability(n,trials=10000):\n",
    "    \"\"\"\n",
    "    Estimates the probability of 2 people having a birthday the same day\n",
    "    using a given amount of trials (default trials=10000).\n",
    "    \"\"\"\n",
    "    # Probability of 2 ppl having the same b-day in a group of 27 with 10000 trials\n",
    "    return (sum([1 if has_duplicates([randint(1,365) for i in range(n)]) else 0 \n",
    "           for i in range(trials)])/trials)\n",
    "\n",
    "estimte_bday_probability(n=27)"
   ]
  },
  {
   "cell_type": "code",
   "execution_count": 7,
   "metadata": {},
   "outputs": [
    {
     "data": {
      "text/plain": [
       "0.6268592822632421"
      ]
     },
     "execution_count": 7,
     "metadata": {},
     "output_type": "execute_result"
    }
   ],
   "source": [
    "def exact_bday_probability(n):\n",
    "    \"\"\"\n",
    "    Calculates the exact probability of 2 people having a birthday the same day.\n",
    "    \"\"\"\n",
    "    p = 1\n",
    "    for i in range(n):\n",
    "        p *= ((365-i)/365)\n",
    "    return(1-p)\n",
    "exact_bday_probability(n=27)"
   ]
  },
  {
   "cell_type": "markdown",
   "metadata": {},
   "source": [
    "### Exersice 4: Anagrams"
   ]
  },
  {
   "cell_type": "markdown",
   "metadata": {},
   "source": [
    "1. Write a program that reads a word list from the file `words.txt` and prints all the sets of words that are anagrams.  \n",
    "Limit your output to words having at least 6 anagrams (including itself).\n",
    "Here is an example of what the output might look like:  \n",
    "           [’deltas’, ’desalt’, ’lasted’, ’salted’, ’slated’, ’staled’]  \n",
    "           [’retainers’, ’ternaries’]  \n",
    "           [’generating’, ’greatening’]  \n",
    "           [’resmelts’, ’smelters’, ’termless’]  \n",
    "2. Modify the previous program so that it prints the largest set of anagrams first, followed by the second largest set, and so on.  \n",
    "3. Which set of 8 letters contains the most anagrams and what are they? Hint: there are seven.  "
   ]
  },
  {
   "cell_type": "code",
   "execution_count": 8,
   "metadata": {
    "scrolled": true
   },
   "outputs": [
    {
     "name": "stdout",
     "output_type": "stream",
     "text": [
      "['abets', 'baste', 'bates', 'beast', 'beats', 'betas', 'tabes']\n",
      "['acers', 'acres', 'cares', 'carse', 'escar', 'races', 'scare', 'serac']\n",
      "['alerts', 'alters', 'artels', 'estral', 'laster', 'ratels', 'salter', 'slater', 'staler', 'stelar', 'talers']\n",
      "['algins', 'aligns', 'lasing', 'liangs', 'ligans', 'lingas', 'signal']\n",
      "['amens', 'manes', 'manse', 'means', 'mensa', 'names', 'nemas']\n",
      "['anestri', 'nastier', 'ratines', 'retains', 'retinas', 'retsina', 'stainer', 'stearin']\n",
      "['angriest', 'astringe', 'ganister', 'gantries', 'granites', 'ingrates', 'rangiest']\n",
      "['apers', 'asper', 'pares', 'parse', 'pears', 'prase', 'presa', 'rapes', 'reaps', 'spare', 'spear']\n",
      "['ardebs', 'bardes', 'beards', 'breads', 'debars', 'sabred', 'serdab']\n",
      "['ares', 'arse', 'ears', 'eras', 'rase', 'sear', 'sera']\n",
      "['aridest', 'astride', 'diaster', 'disrate', 'staider', 'tardies', 'tirades']\n",
      "['ariled', 'derail', 'dialer', 'laired', 'railed', 'redial', 'relaid']\n",
      "['arles', 'earls', 'lares', 'laser', 'lears', 'rales', 'reals', 'seral']\n",
      "['armets', 'master', 'maters', 'matres', 'ramets', 'stream', 'tamers']\n",
      "['arrest', 'rarest', 'raster', 'raters', 'starer', 'tarres', 'terras']\n",
      "['artiest', 'artiste', 'attires', 'iratest', 'ratites', 'striate', 'tastier']\n",
      "['aspen', 'napes', 'neaps', 'panes', 'peans', 'sneap', 'spean']\n",
      "['aspers', 'parses', 'passer', 'prases', 'repass', 'spares', 'sparse', 'spears']\n",
      "['ates', 'east', 'eats', 'etas', 'sate', 'seat', 'seta', 'teas']\n",
      "['capers', 'crapes', 'escarp', 'pacers', 'parsec', 'recaps', 'scrape', 'secpar', 'spacer']\n",
      "['caret', 'carte', 'cater', 'crate', 'react', 'recta', 'trace']\n",
      "['carets', 'cartes', 'caster', 'caters', 'crates', 'reacts', 'recast', 'traces']\n",
      "['cruets', 'cruset', 'curets', 'eructs', 'rectus', 'recuts', 'truces']\n",
      "['deist', 'diets', 'dites', 'edits', 'sited', 'stied', 'tides']\n",
      "['drapes', 'padres', 'parsed', 'rasped', 'spader', 'spared', 'spread']\n",
      "['earings', 'erasing', 'gainers', 'reagins', 'regains', 'reginas', 'searing', 'seringa']\n",
      "['emits', 'items', 'metis', 'mites', 'smite', 'stime', 'times']\n",
      "['empires', 'emprise', 'epimers', 'imprese', 'premies', 'premise', 'spireme']\n",
      "['enosis', 'eosins', 'essoin', 'noesis', 'noises', 'ossein', 'sonsie']\n",
      "['esprits', 'persist', 'priests', 'spriest', 'sprites', 'stirpes', 'stripes']\n",
      "['ester', 'reest', 'reset', 'steer', 'stere', 'terse', 'trees']\n",
      "['estrin', 'inerts', 'insert', 'inters', 'niters', 'nitres', 'sinter', 'triens', 'trines']\n",
      "['estrous', 'oestrus', 'ousters', 'sourest', 'souters', 'stoures', 'tussore']\n",
      "['lapse', 'leaps', 'pales', 'peals', 'pleas', 'salep', 'sepal', 'spale']\n",
      "['lavers', 'ravels', 'salver', 'serval', 'slaver', 'velars', 'versal']\n",
      "['least', 'setal', 'slate', 'stale', 'steal', 'stela', 'taels', 'tales', 'teals', 'tesla']\n",
      "['merits', 'mister', 'miters', 'mitres', 'remits', 'smiter', 'timers']\n",
      "['nestor', 'noters', 'stoner', 'tenors', 'tensor', 'toners', 'trones']\n",
      "['palest', 'palets', 'pastel', 'petals', 'plates', 'pleats', 'septal', 'staple']\n",
      "['paste', 'pates', 'peats', 'septa', 'spate', 'tapes', 'tepas']\n",
      "['peers', 'peres', 'perse', 'prees', 'prese', 'speer', 'spree']\n",
      "['peris', 'piers', 'pries', 'prise', 'ripes', 'speir', 'spier', 'spire']\n",
      "['resaw', 'sawer', 'sewar', 'sware', 'swear', 'wares', 'wears']\n"
     ]
    }
   ],
   "source": [
    "def get_word_barcode(word):\n",
    "    \"\"\"\n",
    "    Given a word it barcodes it by counting how many of each char is present\n",
    "    Returns a tuple\n",
    "    \"\"\"\n",
    "    return tuple([(c,word.count(c)) for c in sorted(list(set(word)))])\n",
    "\n",
    "def get_anagrams_from_file(path, by_len=False):\n",
    "    \"\"\"\n",
    "    Reads a file of words and gets the anagrams on it\n",
    "    \"\"\"\n",
    "    with open(path,\"r\") as FILE:\n",
    "        anagrams = dict()\n",
    "        for line in FILE:\n",
    "            line = line.strip()\n",
    "            barcode = get_word_barcode(line)\n",
    "            try:\n",
    "                anagrams[barcode].append(line)\n",
    "            except:\n",
    "                anagrams[barcode] = [line]\n",
    "    \n",
    "    if by_len:\n",
    "        return sorted(list(anagrams.values()),key=len,reverse=True)\n",
    "    else:\n",
    "        return list(anagrams.values())\n",
    "\n",
    "# For unsorted\n",
    "for anagram in get_anagrams_from_file(\"words.txt\"):\n",
    "    if len(anagram) > 6:\n",
    "        print (anagram)"
   ]
  },
  {
   "cell_type": "code",
   "execution_count": 9,
   "metadata": {
    "scrolled": true
   },
   "outputs": [
    {
     "name": "stdout",
     "output_type": "stream",
     "text": [
      "['alerts', 'alters', 'artels', 'estral', 'laster', 'ratels', 'salter', 'slater', 'staler', 'stelar', 'talers']\n",
      "['apers', 'asper', 'pares', 'parse', 'pears', 'prase', 'presa', 'rapes', 'reaps', 'spare', 'spear']\n",
      "['least', 'setal', 'slate', 'stale', 'steal', 'stela', 'taels', 'tales', 'teals', 'tesla']\n",
      "['capers', 'crapes', 'escarp', 'pacers', 'parsec', 'recaps', 'scrape', 'secpar', 'spacer']\n",
      "['estrin', 'inerts', 'insert', 'inters', 'niters', 'nitres', 'sinter', 'triens', 'trines']\n",
      "['acers', 'acres', 'cares', 'carse', 'escar', 'races', 'scare', 'serac']\n",
      "['anestri', 'nastier', 'ratines', 'retains', 'retinas', 'retsina', 'stainer', 'stearin']\n",
      "['arles', 'earls', 'lares', 'laser', 'lears', 'rales', 'reals', 'seral']\n",
      "['aspers', 'parses', 'passer', 'prases', 'repass', 'spares', 'sparse', 'spears']\n",
      "['ates', 'east', 'eats', 'etas', 'sate', 'seat', 'seta', 'teas']\n",
      "['carets', 'cartes', 'caster', 'caters', 'crates', 'reacts', 'recast', 'traces']\n",
      "['earings', 'erasing', 'gainers', 'reagins', 'regains', 'reginas', 'searing', 'seringa']\n",
      "['lapse', 'leaps', 'pales', 'peals', 'pleas', 'salep', 'sepal', 'spale']\n",
      "['palest', 'palets', 'pastel', 'petals', 'plates', 'pleats', 'septal', 'staple']\n",
      "['peris', 'piers', 'pries', 'prise', 'ripes', 'speir', 'spier', 'spire']\n",
      "['abets', 'baste', 'bates', 'beast', 'beats', 'betas', 'tabes']\n",
      "['algins', 'aligns', 'lasing', 'liangs', 'ligans', 'lingas', 'signal']\n",
      "['amens', 'manes', 'manse', 'means', 'mensa', 'names', 'nemas']\n",
      "['angriest', 'astringe', 'ganister', 'gantries', 'granites', 'ingrates', 'rangiest']\n",
      "['ardebs', 'bardes', 'beards', 'breads', 'debars', 'sabred', 'serdab']\n",
      "['ares', 'arse', 'ears', 'eras', 'rase', 'sear', 'sera']\n",
      "['aridest', 'astride', 'diaster', 'disrate', 'staider', 'tardies', 'tirades']\n",
      "['ariled', 'derail', 'dialer', 'laired', 'railed', 'redial', 'relaid']\n",
      "['armets', 'master', 'maters', 'matres', 'ramets', 'stream', 'tamers']\n",
      "['arrest', 'rarest', 'raster', 'raters', 'starer', 'tarres', 'terras']\n",
      "['artiest', 'artiste', 'attires', 'iratest', 'ratites', 'striate', 'tastier']\n",
      "['aspen', 'napes', 'neaps', 'panes', 'peans', 'sneap', 'spean']\n",
      "['caret', 'carte', 'cater', 'crate', 'react', 'recta', 'trace']\n",
      "['cruets', 'cruset', 'curets', 'eructs', 'rectus', 'recuts', 'truces']\n",
      "['deist', 'diets', 'dites', 'edits', 'sited', 'stied', 'tides']\n",
      "['drapes', 'padres', 'parsed', 'rasped', 'spader', 'spared', 'spread']\n",
      "['emits', 'items', 'metis', 'mites', 'smite', 'stime', 'times']\n",
      "['empires', 'emprise', 'epimers', 'imprese', 'premies', 'premise', 'spireme']\n",
      "['enosis', 'eosins', 'essoin', 'noesis', 'noises', 'ossein', 'sonsie']\n",
      "['esprits', 'persist', 'priests', 'spriest', 'sprites', 'stirpes', 'stripes']\n",
      "['ester', 'reest', 'reset', 'steer', 'stere', 'terse', 'trees']\n",
      "['estrous', 'oestrus', 'ousters', 'sourest', 'souters', 'stoures', 'tussore']\n",
      "['lavers', 'ravels', 'salver', 'serval', 'slaver', 'velars', 'versal']\n",
      "['merits', 'mister', 'miters', 'mitres', 'remits', 'smiter', 'timers']\n",
      "['nestor', 'noters', 'stoner', 'tenors', 'tensor', 'toners', 'trones']\n",
      "['paste', 'pates', 'peats', 'septa', 'spate', 'tapes', 'tepas']\n",
      "['peers', 'peres', 'perse', 'prees', 'prese', 'speer', 'spree']\n",
      "['resaw', 'sawer', 'sewar', 'sware', 'swear', 'wares', 'wears']\n"
     ]
    }
   ],
   "source": [
    "# For sorted\n",
    "for anagram in get_anagrams_from_file(\"words.txt\",by_len=True):\n",
    "    if len(anagram) > 6:\n",
    "        print (anagram)"
   ]
  },
  {
   "cell_type": "code",
   "execution_count": 10,
   "metadata": {},
   "outputs": [
    {
     "name": "stdout",
     "output_type": "stream",
     "text": [
      "['angriest', 'astringe', 'ganister', 'gantries', 'granites', 'ingrates', 'rangiest']\n"
     ]
    }
   ],
   "source": [
    "# This will allow us to discover the largest set of anagrams with 8 letters.\n",
    "for anagram in get_anagrams_from_file(\"words.txt\",by_len=True):\n",
    "    if len(anagram[0]) == 8:\n",
    "        print (anagram)\n",
    "        break"
   ]
  }
 ],
 "metadata": {
  "kernelspec": {
   "display_name": "Python 3",
   "language": "python",
   "name": "python3"
  },
  "language_info": {
   "codemirror_mode": {
    "name": "ipython",
    "version": 3
   },
   "file_extension": ".py",
   "mimetype": "text/x-python",
   "name": "python",
   "nbconvert_exporter": "python",
   "pygments_lexer": "ipython3",
   "version": "3.6.4"
  }
 },
 "nbformat": 4,
 "nbformat_minor": 2
}
