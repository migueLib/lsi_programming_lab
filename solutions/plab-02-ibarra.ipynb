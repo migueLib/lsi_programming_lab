{
 "cells": [
  {
   "cell_type": "markdown",
   "metadata": {},
   "source": [
    "# Programming Lab II"
   ]
  },
  {
   "cell_type": "markdown",
   "metadata": {},
   "source": [
    "## Handout 2"
   ]
  },
  {
   "cell_type": "markdown",
   "metadata": {},
   "source": [
    "Miguel A. Ibarra-Arellano  \n",
    "ibarrarellano@gmail.com"
   ]
  },
  {
   "cell_type": "markdown",
   "metadata": {},
   "source": [
    " ### Exercise 1: *One hundred ways to get to one hundret (more or less).*"
   ]
  },
  {
   "cell_type": "code",
   "execution_count": 1,
   "metadata": {
    "scrolled": true
   },
   "outputs": [
    {
     "name": "stdout",
     "output_type": "stream",
     "text": [
      "1+2+3+4+5+6+7+8*9\n",
      "1+2+3-4+5+6+78+9\n",
      "1+2+3-4*5+6*7+8*9\n",
      "1+2+3-45+67+8*9\n",
      "1+2+3*4-5-6+7+89\n",
      "1+2+3*4*5/6+78+9\n",
      "1+2+3*4*56/7-8+9\n",
      "1+2+34-5+67-8+9\n",
      "1+2+34*5+6-7-8*9\n",
      "1+2-3*4+5*6+7+8*9\n",
      "1+2-3*4-5+6*7+8*9\n",
      "1+2*3+4+5+67+8+9\n",
      "1+2*3+4*5-6+7+8*9\n",
      "1+2*3-4+56/7+89\n",
      "1+2*3-4-5+6+7+89\n",
      "1+2*3*4*5/6+7+8*9\n",
      "1+2*34-56+78+9\n",
      "1+23-4+5+6+78-9\n",
      "1+23-4+56+7+8+9\n",
      "1+23-4+56/7+8*9\n",
      "1+23-4-5+6+7+8*9\n",
      "1+23*4+5-6+7-8+9\n",
      "1+23*4+56/7+8-9\n",
      "1+23*4-5+6+7+8-9\n",
      "1+234-56-7-8*9\n",
      "1+234*5*6/78+9\n",
      "1+234*5/6-7-89\n",
      "1-2+3+45+6+7*8-9\n",
      "1-2+3*4+5+67+8+9\n",
      "1-2+3*4*5+6*7+8-9\n",
      "1-2+3*4*5-6+7*8-9\n",
      "1-2-3+4*5+67+8+9\n",
      "1-2-3+4*56/7+8*9\n",
      "1-2-3+45+6*7+8+9\n",
      "1-2-3+45-6+7*8+9\n",
      "1-2-3+45-6-7+8*9\n",
      "1-2-34+56+7+8*9\n",
      "1-2*3+4*5+6+7+8*9\n",
      "1-2*3-4+5*6+7+8*9\n",
      "1-2*3-4-5+6*7+8*9\n",
      "1-23+4*5+6+7+89\n",
      "1-23-4+5*6+7+89\n",
      "1-23-4-5+6*7+89\n",
      "1*2+3+4*5+6+78-9\n",
      "1*2+3+45+67-8-9\n",
      "1*2+3-4+5*6+78-9\n",
      "1*2+3*4+5-6+78+9\n",
      "1*2+34+5+6*7+8+9\n",
      "1*2+34+5-6+7*8+9\n",
      "1*2+34+5-6-7+8*9\n",
      "1*2+34+56+7-8+9\n",
      "1*2+34-56/7+8*9\n",
      "1*2-3+4+56/7+89\n",
      "1*2-3+4-5+6+7+89\n",
      "1*2-3+4*5-6+78+9\n",
      "1*2*3+4+5+6+7+8*9\n",
      "1*2*3-4+5+6+78+9\n",
      "1*2*3-4*5+6*7+8*9\n",
      "1*2*3-45+67+8*9\n",
      "1*2*3*4+5+6+7*8+9\n",
      "1*2*3*4+5+6-7+8*9\n",
      "1*2*3*4-5-6+78+9\n",
      "1*2*34+56-7-8-9\n",
      "1*2/3+4*5/6+7+89\n",
      "1*23+4+5+67-8+9\n",
      "1*23+4+56/7*8+9\n",
      "1*23-4+5-6-7+89\n",
      "1*23-4-56/7+89\n",
      "1*23*4-56/7/8+9\n",
      "1*234+5-67-8*9\n",
      "1/2*3/4*56+7+8*9\n",
      "1/2*34-5+6-7+89\n",
      "1/2/3*456+7+8+9\n",
      "12+3+4+5-6-7+89\n",
      "12+3+4-56/7+89\n",
      "12+3-4+5+67+8+9\n",
      "12+3*4+5+6+7*8+9\n",
      "12+3*4+5+6-7+8*9\n",
      "12+3*4-5-6+78+9\n",
      "12+3*45+6*7-89\n",
      "12+34+5*6+7+8+9\n",
      "12+34-5+6*7+8+9\n",
      "12+34-5-6+7*8+9\n",
      "12+34-5-6-7+8*9\n",
      "12-3+4*5+6+7*8+9\n",
      "12-3+4*5+6-7+8*9\n",
      "12-3-4+5-6+7+89\n",
      "12-3-4+5*6+7*8+9\n",
      "12-3-4+5*6-7+8*9\n",
      "12*3-4+5-6+78-9\n",
      "12*3-4-5-6+7+8*9\n",
      "12*3-4*5+67+8+9\n",
      "12/3+4*5-6-7+89\n",
      "12/3+4*5*6-7-8-9\n",
      "12/3+4*5*6*7/8-9\n",
      "12/3/4+5*6+78-9\n",
      "123+4-5+67-89\n",
      "123+4*5-6*7+8-9\n",
      "123+45-67+8-9\n",
      "123-4-5-6-7+8-9\n",
      "123-45-67+89\n"
     ]
    }
   ],
   "source": [
    "from itertools import product\n",
    "from itertools import zip_longest\n",
    "\n",
    "def generate_formulas(digits, operators):\n",
    "    \"\"\"\n",
    "    Returns a list with all the possible combination of\n",
    "    formulas with the structure digit{operator}digit...\n",
    "    \"\"\"\n",
    "    digits = list(map(str,digits)) # convert digits to str\n",
    "    place_holders = placeholders = [\"{d[\"+str(i)+\"]}\" for i in range(len(digits)-1)]\n",
    "    fx_template = [i+j for i,j in list(zip_longest(digits,placeholders,fillvalue=\"\"))]\n",
    "    fx_template = \"\".join(fx_template)\n",
    "    return [fx_template.format(d=comb) for comb in list(product(operators,repeat=8))]\n",
    "\n",
    "# Initialize operators and list of numbers\n",
    "digits = list(range(1,10))\n",
    "operators = [\"+\",\"-\",\"*\",\"/\",\"\"]\n",
    "\n",
    "# Generate formulas\n",
    "formulas = generate_formulas(digits,operators)\n",
    "\n",
    "# Evaluate for wich formulas and print those that equals 100\n",
    "for formula in formulas:\n",
    "    if eval(formula) == 100:\n",
    "        print (formula)"
   ]
  },
  {
   "cell_type": "markdown",
   "metadata": {},
   "source": [
    "Write a program that outputs all possibilities to generate the number 100 from the digits  \n",
    "1, 2, 3, 4, 5, 6, 7, 8, 9 (in that order) either by putting a ‘+’, ‘−’, ‘∗’, ‘’/’, or nothing between  \n",
    "the digits, e.g. 1+2+3−4+5+6+78+9 = 100 or 1+23∗4+56/7+8−9 = 100. Usual  \n",
    "arithmetic rules apply. How many possibilities exist?  \n",
    "\n",
    "*Hint:* You can construct all possible expressions as strings and use the eval function.  \n",
    "You might also want to at least look at the itertools module of Python, specifically  \n",
    "the combinatoric generators to avoid deeply nested loops. Don’t forget: recursion is also  \n",
    "(always) a possibility. . .  \n",
    "\n",
    "**Resources used:**  \n",
    "https://www.digitalocean.com/community/tutorials/how-to-use-string-formatters-in-python-3  \n",
    "https://pyformat.info/"
   ]
  },
  {
   "cell_type": "markdown",
   "metadata": {},
   "source": [
    "### Exercise 2: *Eight queens*"
   ]
  },
  {
   "cell_type": "markdown",
   "metadata": {},
   "source": [
    "The game of chess is played on a checkered board consisting of 64 squares arranged on an  \n",
    "8 by 8 grid. Different types of pieces are placed on the board, each of which is allowed  \n",
    "different types of moves. A piece can capture another piece (which is subsequently removed  \n",
    "from the board) if it can move to the square occupied by the other piece in a single turn.  \n",
    "Here, we are not really interested in the rules of the game, instead, we are only interested  \n",
    "in the movements of the piece called queen. The queen is the most powerfull piece in chess,  \n",
    "it can move along the board in any direction, horizontally, vertically one or more squares.  \n",
    "Thus any other piece placed in a straight horizontal, vertical, or diagonal line (with no  \n",
    "intervening pieces) can be captured by the queen. The “eight queens” problem asks you to  \n",
    "place as many queens as possible on a chessboard so that no queen can capture any other  \n",
    "queen. (Note, that there cannot be more than 8 queens on an 8 by 8 chessboard, as this  \n",
    "requires at least one row and column to contain more than one queen, each of which would  \n",
    "be able to capture the other.)  \n",
    "+ Write a program that finds and prints a solution for the eight queens problem,  \n",
    " placing eight queens on the board in such a way that no queen can capture any other.  \n",
    " (In chess, columns are labeled a to h (left to right) and rows 1 to 8 (bottom to top).  \n",
    " You can print the positions as a1, b5, c3, . . . for the eight queens.)  \n",
    "+ Make sure your program is able to also solve the more general problem of placing  \n",
    "  n queens on an n × n board.  \n",
    "+ Modify your program to find the total number of possible solutions to the n queens\n",
    " problem instead of a single solution. (You do not need to print all the solutions,  \n",
    " just determine the number of possible solutions!) What is the smallest n, for which at least  \n",
    " one solution exists? (For this exercise you do not need to print the individual solutions\n"
   ]
  },
  {
   "cell_type": "code",
   "execution_count": 2,
   "metadata": {},
   "outputs": [],
   "source": [
    "from itertools import permutations\n",
    "import numpy as np\n",
    "\n",
    "def solve_queens_problem(n):\n",
    "    \"\"\"\n",
    "    For a given n x n matrix finds all the valid positions\n",
    "    for n queens.\n",
    "    \"\"\"\n",
    "\n",
    "    # Calculate number of diagonal lines in the matrix\n",
    "    # only descending diagonals\n",
    "    n_diag = (n-1)+(n-2)\n",
    "\n",
    "    # Create an n*n identity matrix (this will cover\n",
    "    # rules no \"more thant one queen per row\" and \"no\n",
    "    # more than one queen per column\")\n",
    "    identity_mtrx = np.identity(n).tolist()\n",
    "\n",
    "    # permutate columns to create a plausible searching space\n",
    "    solution_space = permutations(identity_mtrx, n)\n",
    "\n",
    "    # Getting valid indexes for matrix slicing\n",
    "    asc = [i if i<=n else n for i in range(2,n_diag+2)] # ascending indexes\n",
    "    des = [i if i<=n else n for i in reversed(range(2,n_diag+2))] # descending indexes\n",
    "\n",
    "    # initialize results list\n",
    "    results = list()\n",
    "    \n",
    "    # Exploring each matrix (m) in the solution space\n",
    "    for m in solution_space:\n",
    "        m = np.matrix(m)\n",
    "\n",
    "        # Assess if a diagonal contains more than one queen (q)\n",
    "        is_q_in_des_diag = any(np.trace(m[n-i:n-(n-j),n-j:n-(n-i)])>1 \n",
    "                               for i,j in zip(asc,des))\n",
    "        \n",
    "        is_q_in_asc_diag = any(np.trace(np.rot90(m)[n-i:n-(n-j),n-j:n-(n-i)])>1\n",
    "                               for i,j in zip(asc,des))\n",
    "\n",
    "\n",
    "        # if the matrix doesn't have more than 1 queen per diagonal\n",
    "        # then is a solution\n",
    "        if not is_q_in_des_diag and not is_q_in_asc_diag:\n",
    "            results.append(m)\n",
    "            \n",
    "    return results\n",
    "\n",
    "def get_chess_coordinates(matrix):\n",
    "    \"\"\"\n",
    "    For a given matrix get the chess coordinates \n",
    "    \"\"\"\n",
    "    letters = [\"a\",\"b\",\"c\",\"d\",\"e\",\"f\",\"g\",\"h\",\"i\",\"j\",\n",
    "               \"k\",\"l\",\"m\",\"n\",\"o\",\"p\",\"q\",\"r\",\"s\",\"t\",\n",
    "               \"u\",\"v\",\"w\",\"x\",\"y\",\"z\"]\n",
    "    numbers = [str(i) for i in range(1,len(matrix)+1)]\n",
    "    \n",
    "    x,y = np.nonzero(matrix)\n",
    "    coordinates = zip(x.tolist(),y.tolist())    \n",
    "    coordinates = [\"\".join([letters[x],numbers[y]]) for x,y in coordinates]\n",
    "\n",
    "    return (\",\".join(coordinates))"
   ]
  },
  {
   "cell_type": "markdown",
   "metadata": {},
   "source": [
    "Ok, now lets calculate all the possible solutions for n = 8"
   ]
  },
  {
   "cell_type": "code",
   "execution_count": 3,
   "metadata": {},
   "outputs": [
    {
     "name": "stdout",
     "output_type": "stream",
     "text": [
      "92\n"
     ]
    }
   ],
   "source": [
    "n8_queens = solve_queens_problem(8)\n",
    "print(len(n8_queens))"
   ]
  },
  {
   "cell_type": "markdown",
   "metadata": {},
   "source": [
    "Let's print the first one of the previously calculated solutions"
   ]
  },
  {
   "cell_type": "code",
   "execution_count": 4,
   "metadata": {},
   "outputs": [
    {
     "name": "stdout",
     "output_type": "stream",
     "text": [
      "a1,b5,c8,d6,e3,f7,g2,h4\n"
     ]
    }
   ],
   "source": [
    "print(get_chess_coordinates(n8_queens[0]))"
   ]
  },
  {
   "cell_type": "markdown",
   "metadata": {},
   "source": [
    "Now we need to calculate the n forwhich at least one solution exits."
   ]
  },
  {
   "cell_type": "code",
   "execution_count": 8,
   "metadata": {
    "scrolled": true
   },
   "outputs": [
    {
     "name": "stdout",
     "output_type": "stream",
     "text": [
      "40\n",
      "4\n",
      "10\n",
      "2\n"
     ]
    }
   ],
   "source": [
    "i = 7\n",
    "while len(solve_queens_problem(i)):\n",
    "    print(len(solve_queens_problem(i)))\n",
    "    i -= 1"
   ]
  },
  {
   "cell_type": "markdown",
   "metadata": {},
   "source": [
    "#### Exercise 3: *A nice word puzzle and an even better programming exercise*"
   ]
  },
  {
   "cell_type": "markdown",
   "metadata": {},
   "source": [
    "What is the longest English word, that remains a valid English word, as you remove its  \n",
    "letters one at a time?  \n",
    "  \n",
    "  \n",
    "Now, letters can be removed from either end, or the middle, but you can’t rearrange any  \n",
    "of the letters. Every time you drop a letter, you wind up with another English word. If  \n",
    "you do that, you’re eventually going to wind up with one letter and that too is going to be  \n",
    "an English word—one that’s found in the dictionary. We want to know what’s the longest  \n",
    "word and how many letters does it have?  \n",
    "  \n",
    "  \n",
    "Here is a little modest example: Sprite. You start off with sprite, you take a letter off, one  \n",
    "from the interior of the word, take the r away, and we’re left with the word spite, then we  \n",
    "take the e off the end, we’re left with spit, we take the s off, we’re left with pit, it, and I. (Ex.  \n",
    "12.4 from Think Python, adapted from http: // www. cartalk. com/ content/ puzzlers )  \n",
    "  \n",
    "  \n",
    "Write a program to find all words that can be reduced in this way, and then find the longest  \n",
    "one. Use the file words.txt as a dictionary of valid words for this exercise.  \n",
    "  \n",
    "  \n",
    "This exercise is a little more challenging than most and a few hints are given for solving this  \n",
    "problem are given in Think Python. When trying this exercise please note that the provided  \n",
    "list of words words.txt does not contain the one letter words ‘a’ and ‘i’, you might want  \n",
    "to add them to your list of words. (Depending on your approach you might also want to  \n",
    "add the empty word ‘’.)"
   ]
  },
  {
   "cell_type": "code",
   "execution_count": 38,
   "metadata": {},
   "outputs": [
    {
     "name": "stdout",
     "output_type": "stream",
     "text": [
      "carrousels 5126\n"
     ]
    }
   ],
   "source": [
    "test_words = [\"sprite\",\"abacas\"]\n",
    "def group_by_anagram(path):\n",
    "    \"\"\"\n",
    "    This function will group words with the same letters (anagrams)\n",
    "    together.\n",
    "    \"\"\"\n",
    "    with open(path,\"r\") as FILE:\n",
    "        anagrams = dict()\n",
    "        for line in FILE:\n",
    "            line = line.strip()\n",
    "            barcode = \"\".join(sorted(line.strip()))\n",
    "            if anagrams.get(barcode,False):\n",
    "                anagrams[barcode].append(line)\n",
    "            else:\n",
    "                anagrams[barcode] = [line]\n",
    "            \n",
    "        return anagrams\n",
    "    \n",
    "def is_substring_valid(anagrams, string):\n",
    "    \"\"\"\n",
    "    Returns true if the word exits in dictionary else False\n",
    "    \"\"\"\n",
    "    return string in anagrams.get(\"\".join(sorted(string)),[])\n",
    "        \n",
    "def get_valid_substrs(anagrams,string):\n",
    "    \"\"\"\n",
    "    Identifies valid submatrices\n",
    "    \"\"\"\n",
    "    # Getting all possible substrings\n",
    "    substrings = [string[:i]+string[i+1:] for i in range(len(string))]\n",
    "    \n",
    "    # Returning only valid substrings '[]' if none found\n",
    "    return [sstr for sstr in substrings if is_substring_valid(anagrams,sstr)]\n",
    "        \n",
    "\n",
    "# Grouping words by anagrams                \n",
    "anagrams = group_by_anagram(\"words.txt\")\n",
    "\n",
    "# Find removable words\n",
    "funky_words = list()\n",
    "with open(\"words.txt\") as FILE:\n",
    "    for word in FILE:\n",
    "        word = word.strip() # Remove '\\n'\n",
    "        \n",
    "        # Get valid substring for the word\n",
    "        validsubstr = get_valid_substrs(anagrams,word)\n",
    "        \n",
    "        # Count possible reductions\n",
    "        n_substr = 1\n",
    "        \n",
    "        # Do-while like structure\n",
    "        if len(validsubstr) > 0:\n",
    "            n_substr += 1\n",
    "        substrings = validsubstr\n",
    "        \n",
    "        while len(validsubstr) > 1:\n",
    "            validsubstr = []\n",
    "            for elem in substrings:\n",
    "                validsubstr += get_valid_substrs(anagrams,elem)\n",
    "            if len(validsubstr) > 0:\n",
    "                n_substr += 1\n",
    "            substrings = list(set(validsubstr)) # remove duplicates \n",
    "\n",
    "        if len(word) == n_substr:\n",
    "            funky_words.append(word)\n",
    "            \n",
    "# Sort and print longest word as well as total amount of funkywords\n",
    "print (sorted(funky_words,key=len,reverse=True)[0],len(funky_words))"
   ]
  }
 ],
 "metadata": {
  "kernelspec": {
   "display_name": "Python 3",
   "language": "python",
   "name": "python3"
  },
  "language_info": {
   "codemirror_mode": {
    "name": "ipython",
    "version": 3
   },
   "file_extension": ".py",
   "mimetype": "text/x-python",
   "name": "python",
   "nbconvert_exporter": "python",
   "pygments_lexer": "ipython3",
   "version": "3.6.4"
  }
 },
 "nbformat": 4,
 "nbformat_minor": 2
}
