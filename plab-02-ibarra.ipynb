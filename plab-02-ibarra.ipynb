{
 "cells": [
  {
   "cell_type": "markdown",
   "metadata": {},
   "source": [
    "# Programming Lab II"
   ]
  },
  {
   "cell_type": "markdown",
   "metadata": {},
   "source": [
    "## Handout 2"
   ]
  },
  {
   "cell_type": "markdown",
   "metadata": {},
   "source": [
    "Miguel A. Ibarra-Arellano  \n",
    "ibarrarellano@gmail.com"
   ]
  },
  {
   "cell_type": "markdown",
   "metadata": {},
   "source": [
    " ### Exercise 1: *One hundred ways to get to one hundret (more or less).*"
   ]
  },
  {
   "cell_type": "markdown",
   "metadata": {},
   "source": [
    "Write a program that outputs all possibilities to generate the number 100 from the digits  \n",
    "1, 2, 3, 4, 5, 6, 7, 8, 9 (in that order) either by putting a ‘+’, ‘−’, ‘∗’, ‘’/’, or nothing between  \n",
    "the digits, e.g. 1+2+3−4+5+6+78+9 = 100 or 1+23∗4+56/7+8−9 = 100. Usual  \n",
    "arithmetic rules apply. How many possibilities exist?  \n",
    "\n",
    "*Hint:* You can construct all possible expressions as strings and use the eval function.  \n",
    "You might also want to at least look at the itertools module of Python, specifically  \n",
    "the combinatoric generators to avoid deeply nested loops. Don’t forget: recursion is also  \n",
    "(always) a possibility. . ."
   ]
  },
  {
   "cell_type": "code",
   "execution_count": 48,
   "metadata": {
    "scrolled": true
   },
   "outputs": [
    {
     "name": "stdout",
     "output_type": "stream",
     "text": [
      "1+2+3+4+5+6+7+8*9\n",
      "1+2+3-4+5+6+78+9\n",
      "1+2+3-4*5+6*7+8*9\n",
      "1+2+3-45+67+8*9\n",
      "1+2+3*4-5-6+7+89\n",
      "1+2+3*4*5/6+78+9\n",
      "1+2+3*4*56/7-8+9\n",
      "1+2+34-5+67-8+9\n",
      "1+2+34*5+6-7-8*9\n",
      "1+2-3*4+5*6+7+8*9\n",
      "1+2-3*4-5+6*7+8*9\n",
      "1+2*3+4+5+67+8+9\n",
      "1+2*3+4*5-6+7+8*9\n",
      "1+2*3-4+56/7+89\n",
      "1+2*3-4-5+6+7+89\n",
      "1+2*3*4*5/6+7+8*9\n",
      "1+2*34-56+78+9\n",
      "1+23-4+5+6+78-9\n",
      "1+23-4+56+7+8+9\n",
      "1+23-4+56/7+8*9\n",
      "1+23-4-5+6+7+8*9\n",
      "1+23*4+5-6+7-8+9\n",
      "1+23*4+56/7+8-9\n",
      "1+23*4-5+6+7+8-9\n",
      "1+234-56-7-8*9\n",
      "1+234*5*6/78+9\n",
      "1+234*5/6-7-89\n",
      "1-2+3+45+6+7*8-9\n",
      "1-2+3*4+5+67+8+9\n",
      "1-2+3*4*5+6*7+8-9\n",
      "1-2+3*4*5-6+7*8-9\n",
      "1-2-3+4*5+67+8+9\n",
      "1-2-3+4*56/7+8*9\n",
      "1-2-3+45+6*7+8+9\n",
      "1-2-3+45-6+7*8+9\n",
      "1-2-3+45-6-7+8*9\n",
      "1-2-34+56+7+8*9\n",
      "1-2*3+4*5+6+7+8*9\n",
      "1-2*3-4+5*6+7+8*9\n",
      "1-2*3-4-5+6*7+8*9\n",
      "1-23+4*5+6+7+89\n",
      "1-23-4+5*6+7+89\n",
      "1-23-4-5+6*7+89\n",
      "1*2+3+4*5+6+78-9\n",
      "1*2+3+45+67-8-9\n",
      "1*2+3-4+5*6+78-9\n",
      "1*2+3*4+5-6+78+9\n",
      "1*2+34+5+6*7+8+9\n",
      "1*2+34+5-6+7*8+9\n",
      "1*2+34+5-6-7+8*9\n",
      "1*2+34+56+7-8+9\n",
      "1*2+34-56/7+8*9\n",
      "1*2-3+4+56/7+89\n",
      "1*2-3+4-5+6+7+89\n",
      "1*2-3+4*5-6+78+9\n",
      "1*2*3+4+5+6+7+8*9\n",
      "1*2*3-4+5+6+78+9\n",
      "1*2*3-4*5+6*7+8*9\n",
      "1*2*3-45+67+8*9\n",
      "1*2*3*4+5+6+7*8+9\n",
      "1*2*3*4+5+6-7+8*9\n",
      "1*2*3*4-5-6+78+9\n",
      "1*2*34+56-7-8-9\n",
      "1*2/3+4*5/6+7+89\n",
      "1*23+4+5+67-8+9\n",
      "1*23+4+56/7*8+9\n",
      "1*23-4+5-6-7+89\n",
      "1*23-4-56/7+89\n",
      "1*23*4-56/7/8+9\n",
      "1*234+5-67-8*9\n",
      "1/2*3/4*56+7+8*9\n",
      "1/2*34-5+6-7+89\n",
      "1/2/3*456+7+8+9\n",
      "12+3+4+5-6-7+89\n",
      "12+3+4-56/7+89\n",
      "12+3-4+5+67+8+9\n",
      "12+3*4+5+6+7*8+9\n",
      "12+3*4+5+6-7+8*9\n",
      "12+3*4-5-6+78+9\n",
      "12+3*45+6*7-89\n",
      "12+34+5*6+7+8+9\n",
      "12+34-5+6*7+8+9\n",
      "12+34-5-6+7*8+9\n",
      "12+34-5-6-7+8*9\n",
      "12-3+4*5+6+7*8+9\n",
      "12-3+4*5+6-7+8*9\n",
      "12-3-4+5-6+7+89\n",
      "12-3-4+5*6+7*8+9\n",
      "12-3-4+5*6-7+8*9\n",
      "12*3-4+5-6+78-9\n",
      "12*3-4-5-6+7+8*9\n",
      "12*3-4*5+67+8+9\n",
      "12/3+4*5-6-7+89\n",
      "12/3+4*5*6-7-8-9\n",
      "12/3+4*5*6*7/8-9\n",
      "12/3/4+5*6+78-9\n",
      "123+4-5+67-89\n",
      "123+4*5-6*7+8-9\n",
      "123+45-67+8-9\n",
      "123-4-5-6-7+8-9\n",
      "123-45-67+89\n"
     ]
    }
   ],
   "source": [
    "from itertools import product\n",
    "from itertools import zip_longest\n",
    "\n",
    "def generate_formulas(digits, operators):\n",
    "    \"\"\"\n",
    "    Returns a list with all the possible combination of\n",
    "    formulas with the structure digit{operator}digit...\n",
    "    \"\"\"\n",
    "    digits = list(map(str,digits)) # convert digits to str\n",
    "    place_holders = placeholders = [\"{d[\"+str(i)+\"]}\" for i in range(len(digits)-1)]\n",
    "    fx_template = [i+j for i,j in list(zip_longest(digits,placeholders,fillvalue=\"\"))]\n",
    "    fx_template = \"\".join(fx_template)\n",
    "    return [fx_template.format(d=comb) for comb in list(product(operators,repeat=8))]\n",
    "\n",
    "# Initialize operators and list of numbers\n",
    "digits = list(range(1,10))\n",
    "operators = [\"+\",\"-\",\"*\",\"/\",\"\"]\n",
    "\n",
    "# Generate formulas\n",
    "formulas = generate_formulas(digits,operators)\n",
    "\n",
    "# Evaluate for wich formulas and print those that equals 100\n",
    "for formula in formulas:\n",
    "    if eval(formula) == 100:\n",
    "        print (formula)"
   ]
  },
  {
   "cell_type": "markdown",
   "metadata": {},
   "source": [
    "### Exercise 2: *Eight queens*"
   ]
  },
  {
   "cell_type": "markdown",
   "metadata": {},
   "source": [
    "The game of chess is played on a checkered board consisting of 64 squares arranged on an  \n",
    "8 by 8 grid. Different types of pieces are placed on the board, each of which is allowed  \n",
    "different types of moves. A piece can capture another piece (which is subsequently removed  \n",
    "from the board) if it can move to the square occupied by the other piece in a single turn.  \n",
    "Here, we are not really interested in the rules of the game, instead, we are only interested  \n",
    "in the movements of the piece called queen. The queen is the most powerfull piece in chess,  \n",
    "it can move along the board in any direction, horizontally, vertically one or more squares.  \n",
    "Thus any other piece placed in a straight horizontal, vertical, or diagonal line (with no  \n",
    "intervening pieces) can be captured by the queen. The “eight queens” problem asks you to  \n",
    "place as many queens as possible on a chessboard so that no queen can capture any other  \n",
    "queen. (Note, that there cannot be more than 8 queens on an 8 by 8 chessboard, as this  \n",
    "requires at least one row and column to contain more than one queen, each of which would  \n",
    "be able to capture the other.)"
   ]
  },
  {
   "cell_type": "markdown",
   "metadata": {},
   "source": [
    "+ Write a program that finds and prints a solution for the eight queens problem,  \n",
    " placing eight queens on the board in such a way that no queen can capture any other.  \n",
    " (In chess, columns are labeled a to h (left to right) and rows 1 to 8 (bottom to top).  \n",
    " You can print the positions as a1, b5, c3, . . . for the eight queens.)"
   ]
  },
  {
   "cell_type": "markdown",
   "metadata": {},
   "source": [
    "+ Make sure your program is able to also solve the more general problem of placing  \n",
    "  n queens on an n × n board."
   ]
  },
  {
   "cell_type": "markdown",
   "metadata": {},
   "source": [
    "+ Modify your program to find the total number of possible solutions to the n queens  \n",
    " problem instead of a single solution. (You do not need to print all the solutions,  \n",
    " just determine the number of possible solutions!) What is the smallest n, for which at least  \n",
    " one solution exists? (For this exercise you do not need to print the individual solutions"
   ]
  },
  {
   "cell_type": "markdown",
   "metadata": {},
   "source": [
    "### Exercise 3: *A nice word puzzle and an even better programming exercise*"
   ]
  },
  {
   "cell_type": "markdown",
   "metadata": {},
   "source": [
    "What is the longest English word, that remains a valid English word, as you remove its  \n",
    "letters one at a time?  \n",
    "  \n",
    "  \n",
    "Now, letters can be removed from either end, or the middle, but you can’t rearrange any  \n",
    "of the letters. Every time you drop a letter, you wind up with another English word. If  \n",
    "you do that, you’re eventually going to wind up with one letter and that too is going to be  \n",
    "an English word—one that’s found in the dictionary. We want to know what’s the longest  \n",
    "word and how many letters does it have?  \n",
    "  \n",
    "  \n",
    "Here is a little modest example: Sprite. You start off with sprite, you take a letter off, one  \n",
    "from the interior of the word, take the r away, and we’re left with the word spite, then we  \n",
    "take the e off the end, we’re left with spit, we take the s off, we’re left with pit, it, and I. (Ex.  \n",
    "12.4 from Think Python, adapted from http: // www. cartalk. com/ content/ puzzlers )  \n",
    "  \n",
    "  \n",
    "Write a program to find all words that can be reduced in this way, and then find the longest  \n",
    "one. Use the file words.txt as a dictionary of valid words for this exercise.  \n",
    "  \n",
    "  \n",
    "This exercise is a little more challenging than most and a few hints are given for solving this  \n",
    "problem are given in Think Python. When trying this exercise please note that the provided  \n",
    "list of words words.txt does not contain the one letter words ‘a’ and ‘i’, you might want  \n",
    "to add them to your list of words. (Depending on your approach you might also want to  \n",
    "add the empty word ‘’.)"
   ]
  },
  {
   "cell_type": "code",
   "execution_count": null,
   "metadata": {},
   "outputs": [],
   "source": []
  }
 ],
 "metadata": {
  "kernelspec": {
   "display_name": "Python 3",
   "language": "python",
   "name": "python3"
  },
  "language_info": {
   "codemirror_mode": {
    "name": "ipython",
    "version": 3
   },
   "file_extension": ".py",
   "mimetype": "text/x-python",
   "name": "python",
   "nbconvert_exporter": "python",
   "pygments_lexer": "ipython3",
   "version": "3.6.4"
  }
 },
 "nbformat": 4,
 "nbformat_minor": 2
}
